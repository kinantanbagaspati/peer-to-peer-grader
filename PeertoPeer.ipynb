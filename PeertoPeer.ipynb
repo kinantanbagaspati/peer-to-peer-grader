{
 "cells": [
  {
   "cell_type": "code",
   "execution_count": 55,
   "metadata": {},
   "outputs": [
    {
     "name": "stdout",
     "output_type": "stream",
     "text": [
      "         Timestamp Nama  Kelompok  Anggota  1 1  1 2  1 3  2 1  2 2  2 3  ...  \\\n",
      "0  11/1/2020 20:52              1        2    2    3    4    4    3    2  ...   \n",
      "1  11/2/2020 11:57  tes         0        1    1    1    1    2    2    2  ...   \n",
      "\n",
      "   7 3  8 1  8 2  8 3  9 1  9 2  9 3  10 1  10 2  10 3  \n",
      "0    4    4    3    2    2    3    4     4     3     2  \n",
      "1    2    3    3    3    4    4    4     5     5     5  \n",
      "\n",
      "[2 rows x 34 columns]\n"
     ]
    }
   ],
   "source": [
    "import pandas as pd\n",
    "import matplotlib as plt\n",
    "\n",
    "df = pd.read_csv(\"Peer to Peer Form I (Responses) - Form Responses 1.csv\")\n",
    "print(df)"
   ]
  },
  {
   "cell_type": "code",
   "execution_count": 60,
   "metadata": {},
   "outputs": [
    {
     "name": "stdout",
     "output_type": "stream",
     "text": [
      "20\n"
     ]
    }
   ],
   "source": [
    "res = [[[0, 0] for j in range (10)] for i in range (10)]\n",
    "for itr in range (len(df)):\n",
    "    i = df.loc[itr, \"Kelompok\"]\n",
    "    for j in range (10):\n",
    "        res[i][j][0] = res[i][j][0] + df.loc[itr, str(j+1) + \" 1\"]\n",
    "        res[i][j][0] = res[i][j][0] + df.loc[itr, str(j+1) + \" 2\"]\n",
    "        res[i][j][0] = res[i][j][0] + df.loc[itr, str(j+1) + \" 3\"]\n",
    "total_data = 0\n",
    "for i in range (10):\n",
    "    mx = 0\n",
    "    for j in range (10):\n",
    "        if(res[i][j][0] > mx):\n",
    "            mx = res[i][j][0]\n",
    "        if(res[i][j][0] > 0):\n",
    "            total_data = total_data+1\n",
    "    if(mx>0):\n",
    "        for j in range (10):\n",
    "            res[i][j][1] = res[i][j][0]/mx\n",
    "print(total_data)"
   ]
  },
  {
   "cell_type": "code",
   "execution_count": 65,
   "metadata": {},
   "outputs": [
    {
     "name": "stdout",
     "output_type": "stream",
     "text": [
      "    Kelompok  Anggota  Absolut  Relatif\n",
      "0          0        1        3      0.2\n",
      "1          0        2        6      0.4\n",
      "2          0        3        9      0.6\n",
      "3          0        4       12      0.8\n",
      "4          0        5       15      1.0\n",
      "5          0        6        3      0.2\n",
      "6          0        7        6      0.4\n",
      "7          0        8        9      0.6\n",
      "8          0        9       12      0.8\n",
      "9          0       10       15      1.0\n",
      "10         1        1        9      1.0\n",
      "11         1        2        9      1.0\n",
      "12         1        3        9      1.0\n",
      "13         1        4        9      1.0\n",
      "14         1        5        9      1.0\n",
      "15         1        6        9      1.0\n",
      "16         1        7        9      1.0\n",
      "17         1        8        9      1.0\n",
      "18         1        9        9      1.0\n",
      "19         1       10        9      1.0\n"
     ]
    }
   ],
   "source": [
    "nilai = {}\n",
    "nilai[\"Kelompok\"] = [0 for i in range (total_data)]\n",
    "nilai[\"Anggota\"] = [0 for i in range (total_data)]\n",
    "nilai[\"Absolut\"] = [0 for i in range (total_data)]\n",
    "nilai[\"Relatif\"] = [0 for i in range (total_data)]\n",
    "itr = 0\n",
    "for i in range (10):\n",
    "    for j in range (10):\n",
    "        if(res[i][j][0] > 0):\n",
    "            nilai[\"Kelompok\"][itr] = i\n",
    "            nilai[\"Anggota\"][itr] = j+1\n",
    "            nilai[\"Absolut\"][itr] = res[i][j][0]\n",
    "            nilai[\"Relatif\"][itr] = res[i][j][1]\n",
    "            itr = itr + 1\n",
    "data = pd.DataFrame(data=nilai)\n",
    "print(data)\n",
    "data.to_csv(\"nilai_PtP_I.csv\")"
   ]
  },
  {
   "cell_type": "code",
   "execution_count": null,
   "metadata": {},
   "outputs": [],
   "source": []
  }
 ],
 "metadata": {
  "kernelspec": {
   "display_name": "Python 3",
   "language": "python",
   "name": "python3"
  },
  "language_info": {
   "codemirror_mode": {
    "name": "ipython",
    "version": 3
   },
   "file_extension": ".py",
   "mimetype": "text/x-python",
   "name": "python",
   "nbconvert_exporter": "python",
   "pygments_lexer": "ipython3",
   "version": "3.7.4"
  }
 },
 "nbformat": 4,
 "nbformat_minor": 2
}
